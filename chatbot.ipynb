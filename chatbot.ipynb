{
  "cells": [
    {
      "cell_type": "code",
      "execution_count": 7,
      "metadata": {
        "id": "2jjarIApg1Tk"
      },
      "outputs": [],
      "source": [
        "import re\n",
        "import random"
      ]
    },
    {
      "cell_type": "code",
      "execution_count": 8,
      "metadata": {
        "id": "uuu_nEgI0LTd"
      },
      "outputs": [],
      "source": [
        "class rulebot :\n",
        "  neg_words={'bad','not','not that great','sad','tiring','annoying','frustrating'}\n",
        "  exitcoms={'quit','exit','bye','goodbye','later','see ya','see you'}\n",
        "  randomqs=(\"How's everyone doing around you?\",\"Did you have your meal?\")\n",
        "\n",
        "  def init(abc):\n",
        "    abc.anyt={'answhy':r'why\\sare.','selfdoubt':r'.\\s*am I.','hows':r'.\\s*How can I'}\n",
        "\n",
        "\n",
        "  def greet(abc):\n",
        "    abc.name=input(\"Hey there! Let's start off by getting to know each other. What is your name?\\n\")\n",
        "    help=input(f\"Hi,{abc.name}, I'm Joy.How's your day going?\\n\")\n",
        "    if help in abc.neg_words:\n",
        "      print(\"I'm sorry to hear that you're having a rough day. Remember, even the darkest days have bright moments waiting for us. Is there anything I can do to help make your day a little brighter? Whether it's a listening ear, a distraction, or some words of encouragement, I'm here for you!!\\n\")\n",
        "    else:\n",
        "      print(\"It's always refreshing to have a good day. What made today special for you? Feel free to share your happiness, and if there's anything you'd like to talk about or if you need support in the future, I'm here for you.\\n\")\n",
        "      return\n",
        "    abc.chat()\n",
        "\n",
        "  def exitt(abc,reply):\n",
        "    for comm in abc.exitcoms:\n",
        "      if reply==comm:\n",
        "        print(\"Feel free to reach out to me whenever you wannt to!Have a great day ahead!!\\n\")\n",
        "        return True\n",
        "\n",
        "  def chat(abc):\n",
        "    reply=input(random.choice(abc.randomqs)).lower()\n",
        "    while not abc.exitt(reply):\n",
        "      reply=input(abc.match(reply))\n",
        "\n",
        "  def match(abc,reply):\n",
        "    for key,value in abc.anyt.items():\n",
        "      intent=key\n",
        "      regex_pattern=value\n",
        "      found=re.match(regex_pattern,reply)\n",
        "      if found and intent=='answhy':\n",
        "        return abc.answhy()\n",
        "      elif found and intent=='selfdoubt':\n",
        "        return abc.selfdoubt()\n",
        "      elif found and intent=='hows':\n",
        "        return abc.hows()\n",
        "    if not found:\n",
        "      return abc.nomatch()\n",
        "\n",
        "  def answhy(abc):\n",
        "    resp=\"Thank you for sharing your feelings and concerns. It's completely normal to experience something like this, and you're not alone in this. Let's work together to explore what might be contributing to your feelings and find strategies that resonate with you to navigate through this. Remember, it's okay to take things one step at a time, and I'm here to support you along the way.\\n\"\n",
        "    return resp\n",
        "\n",
        "  def selfdoubt(abc):\n",
        "    resp=\"Hey there, it's completely normal to have self-doubt sometimes.  We all question ourselves! But here's the thing: You wouldn't be feeling this way if you didn't also care about doing a good job. Here's the positive spin: This is a chance to learn and grow!  What can you take away from this experience?  Maybe it's a new way of approaching things, or a chance to refine your skills. Remember all the things you've accomplished so far.  You've got this!  And if you need someone to brainstorm with or just vent to, I'm all ears.\\n\"\n",
        "    return resp\n",
        "\n",
        "  def hows(abc):\n",
        "    resp='''Life throws curveballs sometimes, bt that doesn't mean you have to strike out! Overcoming problems and finding relief from distress is totally possible, and  here's a toolbox to get you started:\n",
        "    Problem-Solving Power:\n",
        "\n",
        "Identify the beast: Understanding the root of the problem is half the battle. Take some time to figure out what's causing the most distress.\n",
        "Break it down: Big problems can feel overwhelming. Try chunking it into smaller, more manageable steps. This will make it seem less daunting and give you a sense of accomplishment as you tackle each piece.\n",
        "Get creative: Sometimes the solution isn't obvious. Don't be afraid to brainstorm different approaches, or even seek advice from a trusted friend, family member, or mentor.\n",
        "De-Stress Distress:\n",
        "\n",
        "Self-care superstar: You are braver than you believe, stronger than you seem, and smarter than you think! Take care of yourself – eat healthy, get enough sleep, and do things you enjoy. A happy you is a better problem-solver!\n",
        "Move it or lose it: Exercise is a great way to blow off steam and boost your mood. Go for a walk, hit the gym, or dance around your room – anything to get your body moving!\n",
        "Mind your mind: Mindfulness practices like meditation or deep breathing can help you calm your thoughts and gain perspective. There are many free apps and online resources to get you started.\n",
        "Remember, you are not alone in this!  Everyone faces challenges, but with the right tools and a positive attitude, you can absolutely overcome problems and find relief from distress.  You've got this!\\n'''\n",
        "    return resp\n",
        "\n",
        "def nomatch(abc):\n",
        "  resp=(\"Please tell me more.\\n\",\"Tell me more!\\n\",\"Why do you say that\\n\",\"I see. Can you elaborate?\\n\",\"Why?\\n\",\"I see.How do you think?\\n\")\n",
        "  return random.choice(resp)"
      ]
    },
    {
      "cell_type": "code",
      "execution_count": 9,
      "metadata": {
        "id": "cZfys2683Wsf"
      },
      "outputs": [],
      "source": [
        "Joy=rulebot()"
      ]
    },
    {
      "cell_type": "markdown",
      "source": [],
      "metadata": {
        "id": "vRja_AuRcKEj"
      }
    },
    {
      "cell_type": "markdown",
      "source": [],
      "metadata": {
        "id": "poUPVIf3cKdP"
      }
    },
    {
      "cell_type": "code",
      "execution_count": null,
      "metadata": {
        "colab": {
          "base_uri": "https://localhost:8080/"
        },
        "id": "epArMyjY3ZSA",
        "outputId": "ce61c2d0-2c23-4b37-ca51-1ad427d003c5"
      },
      "outputs": [
        {
          "output_type": "stream",
          "name": "stdout",
          "text": [
            "Hey there! Let's start off by getting to know each other. What is your name?\n",
            "shre\n",
            "Hi,shre, I'm Joy.How's your day going?\n",
            "not that great\n",
            "I'm sorry to hear that you're having a rough day. Remember, even the darkest days have bright moments waiting for us. Is there anything I can do to help make your day a little brighter? Whether it's a listening ear, a distraction, or some words of encouragement, I'm here for you!!\n",
            "\n"
          ]
        }
      ],
      "source": [
        "Joy.greet()"
      ]
    }
  ],
  "metadata": {
    "colab": {
      "provenance": []
    },
    "kernelspec": {
      "display_name": "Python 3",
      "name": "python3"
    },
    "language_info": {
      "name": "python"
    }
  },
  "nbformat": 4,
  "nbformat_minor": 0
}